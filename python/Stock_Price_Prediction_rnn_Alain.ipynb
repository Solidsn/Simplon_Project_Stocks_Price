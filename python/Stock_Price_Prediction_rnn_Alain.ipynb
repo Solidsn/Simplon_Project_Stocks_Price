{
 "cells": [
  {
   "cell_type": "markdown",
   "metadata": {},
   "source": [
    "# Description: This program uses an artificial recurrent neural network called Long Short Term Memory (LSTM) to predict the closing stock price of a corporation (Apple Inc.) using the past 60 day stock price."
   ]
  },
  {
   "cell_type": "code",
   "execution_count": 137,
   "metadata": {},
   "outputs": [],
   "source": [
    "#Import the libraries\n",
    "import math\n",
    "import pandas_datareader as web\n",
    "import numpy as np\n",
    "import pandas as pd\n",
    "from sklearn.preprocessing import MinMaxScaler\n",
    "from keras.models import Sequential\n",
    "from keras.layers import Dense, LSTM\n",
    "import matplotlib.pyplot as plt\n",
    "plt.style.use('fivethirtyeight')"
   ]
  },
  {
   "cell_type": "code",
   "execution_count": 171,
   "metadata": {
    "collapsed": true,
    "jupyter": {
     "outputs_hidden": true
    }
   },
   "outputs": [
    {
     "data": {
      "text/html": [
       "<div>\n",
       "<style scoped>\n",
       "    .dataframe tbody tr th:only-of-type {\n",
       "        vertical-align: middle;\n",
       "    }\n",
       "\n",
       "    .dataframe tbody tr th {\n",
       "        vertical-align: top;\n",
       "    }\n",
       "\n",
       "    .dataframe thead th {\n",
       "        text-align: right;\n",
       "    }\n",
       "</style>\n",
       "<table border=\"1\" class=\"dataframe\">\n",
       "  <thead>\n",
       "    <tr style=\"text-align: right;\">\n",
       "      <th></th>\n",
       "      <th>High</th>\n",
       "      <th>Low</th>\n",
       "      <th>Open</th>\n",
       "      <th>Close</th>\n",
       "      <th>Volume</th>\n",
       "      <th>Adj Close</th>\n",
       "    </tr>\n",
       "    <tr>\n",
       "      <th>Date</th>\n",
       "      <th></th>\n",
       "      <th></th>\n",
       "      <th></th>\n",
       "      <th></th>\n",
       "      <th></th>\n",
       "      <th></th>\n",
       "    </tr>\n",
       "  </thead>\n",
       "  <tbody>\n",
       "    <tr>\n",
       "      <th>2012-01-03</th>\n",
       "      <td>58.928570</td>\n",
       "      <td>58.428570</td>\n",
       "      <td>58.485714</td>\n",
       "      <td>58.747143</td>\n",
       "      <td>75555200.0</td>\n",
       "      <td>50.857235</td>\n",
       "    </tr>\n",
       "    <tr>\n",
       "      <th>2012-01-04</th>\n",
       "      <td>59.240002</td>\n",
       "      <td>58.468571</td>\n",
       "      <td>58.571430</td>\n",
       "      <td>59.062859</td>\n",
       "      <td>65005500.0</td>\n",
       "      <td>51.130558</td>\n",
       "    </tr>\n",
       "    <tr>\n",
       "      <th>2012-01-05</th>\n",
       "      <td>59.792858</td>\n",
       "      <td>58.952858</td>\n",
       "      <td>59.278572</td>\n",
       "      <td>59.718571</td>\n",
       "      <td>67817400.0</td>\n",
       "      <td>51.698215</td>\n",
       "    </tr>\n",
       "    <tr>\n",
       "      <th>2012-01-06</th>\n",
       "      <td>60.392857</td>\n",
       "      <td>59.888573</td>\n",
       "      <td>59.967144</td>\n",
       "      <td>60.342857</td>\n",
       "      <td>79573200.0</td>\n",
       "      <td>52.238651</td>\n",
       "    </tr>\n",
       "    <tr>\n",
       "      <th>2012-01-09</th>\n",
       "      <td>61.107143</td>\n",
       "      <td>60.192856</td>\n",
       "      <td>60.785713</td>\n",
       "      <td>60.247143</td>\n",
       "      <td>98506100.0</td>\n",
       "      <td>52.155792</td>\n",
       "    </tr>\n",
       "    <tr>\n",
       "      <th>...</th>\n",
       "      <td>...</td>\n",
       "      <td>...</td>\n",
       "      <td>...</td>\n",
       "      <td>...</td>\n",
       "      <td>...</td>\n",
       "      <td>...</td>\n",
       "    </tr>\n",
       "    <tr>\n",
       "      <th>2020-07-30</th>\n",
       "      <td>385.190002</td>\n",
       "      <td>375.070007</td>\n",
       "      <td>376.750000</td>\n",
       "      <td>384.760010</td>\n",
       "      <td>39532500.0</td>\n",
       "      <td>384.760010</td>\n",
       "    </tr>\n",
       "    <tr>\n",
       "      <th>2020-07-31</th>\n",
       "      <td>425.660004</td>\n",
       "      <td>403.299988</td>\n",
       "      <td>411.540009</td>\n",
       "      <td>425.040009</td>\n",
       "      <td>93584200.0</td>\n",
       "      <td>425.040009</td>\n",
       "    </tr>\n",
       "    <tr>\n",
       "      <th>2020-08-03</th>\n",
       "      <td>446.549988</td>\n",
       "      <td>431.570007</td>\n",
       "      <td>432.799988</td>\n",
       "      <td>435.750000</td>\n",
       "      <td>77037800.0</td>\n",
       "      <td>435.750000</td>\n",
       "    </tr>\n",
       "    <tr>\n",
       "      <th>2020-08-04</th>\n",
       "      <td>443.160004</td>\n",
       "      <td>433.549988</td>\n",
       "      <td>436.529999</td>\n",
       "      <td>438.660004</td>\n",
       "      <td>43267900.0</td>\n",
       "      <td>438.660004</td>\n",
       "    </tr>\n",
       "    <tr>\n",
       "      <th>2020-08-05</th>\n",
       "      <td>441.554901</td>\n",
       "      <td>435.589996</td>\n",
       "      <td>437.510010</td>\n",
       "      <td>439.220001</td>\n",
       "      <td>9183263.0</td>\n",
       "      <td>439.220001</td>\n",
       "    </tr>\n",
       "  </tbody>\n",
       "</table>\n",
       "<p>2162 rows × 6 columns</p>\n",
       "</div>"
      ],
      "text/plain": [
       "                  High         Low        Open       Close      Volume  \\\n",
       "Date                                                                     \n",
       "2012-01-03   58.928570   58.428570   58.485714   58.747143  75555200.0   \n",
       "2012-01-04   59.240002   58.468571   58.571430   59.062859  65005500.0   \n",
       "2012-01-05   59.792858   58.952858   59.278572   59.718571  67817400.0   \n",
       "2012-01-06   60.392857   59.888573   59.967144   60.342857  79573200.0   \n",
       "2012-01-09   61.107143   60.192856   60.785713   60.247143  98506100.0   \n",
       "...                ...         ...         ...         ...         ...   \n",
       "2020-07-30  385.190002  375.070007  376.750000  384.760010  39532500.0   \n",
       "2020-07-31  425.660004  403.299988  411.540009  425.040009  93584200.0   \n",
       "2020-08-03  446.549988  431.570007  432.799988  435.750000  77037800.0   \n",
       "2020-08-04  443.160004  433.549988  436.529999  438.660004  43267900.0   \n",
       "2020-08-05  441.554901  435.589996  437.510010  439.220001   9183263.0   \n",
       "\n",
       "             Adj Close  \n",
       "Date                    \n",
       "2012-01-03   50.857235  \n",
       "2012-01-04   51.130558  \n",
       "2012-01-05   51.698215  \n",
       "2012-01-06   52.238651  \n",
       "2012-01-09   52.155792  \n",
       "...                ...  \n",
       "2020-07-30  384.760010  \n",
       "2020-07-31  425.040009  \n",
       "2020-08-03  435.750000  \n",
       "2020-08-04  438.660004  \n",
       "2020-08-05  439.220001  \n",
       "\n",
       "[2162 rows x 6 columns]"
      ]
     },
     "execution_count": 171,
     "metadata": {},
     "output_type": "execute_result"
    }
   ],
   "source": [
    "#Get the stock quote \n",
    "df = web.DataReader('AAPL', data_source='yahoo', start='2012-01-01', end='2020-08-05') \n",
    "#Show the data \n",
    "df"
   ]
  },
  {
   "cell_type": "code",
   "execution_count": 172,
   "metadata": {},
   "outputs": [
    {
     "data": {
      "text/plain": [
       "(array([0, 0, 0, 0, 0, 0]), (2162, 6))"
      ]
     },
     "execution_count": 172,
     "metadata": {},
     "output_type": "execute_result"
    }
   ],
   "source": [
    "df.isna().sum().values,df.shape"
   ]
  },
  {
   "cell_type": "markdown",
   "metadata": {},
   "source": [
    "Create a graph to visualize the data."
   ]
  },
  {
   "cell_type": "code",
   "execution_count": 173,
   "metadata": {
    "collapsed": true,
    "jupyter": {
     "outputs_hidden": true
    }
   },
   "outputs": [
    {
     "data": {
      "image/png": "[encoded data removed]",
      "text/plain": [
       "<Figure size 1008x432 with 1 Axes>"
      ]
     },
     "metadata": {},
     "output_type": "display_data"
    }
   ],
   "source": [
    "# df[\"High\"].plot()\n",
    "#Visualize the closing price history\n",
    "plt.figure(figsize=(14,6))\n",
    "plt.title('Close Price History')\n",
    "plt.plot(df['Close'])\n",
    "plt.xlabel('Date',fontsize=18)\n",
    "plt.ylabel('Close Price USD ($)',fontsize=18)\n",
    "plt.show()"
   ]
  },
  {
   "cell_type": "code",
   "execution_count": 174,
   "metadata": {},
   "outputs": [
    {
     "data": {
      "image/png": "[encoded data removed]",
      "text/plain": [
       "<Figure size 1008x432 with 1 Axes>"
      ]
     },
     "metadata": {},
     "output_type": "display_data"
    }
   ],
   "source": [
    "# df[\"High\"].plot()\n",
    "#Visualize the closing price history\n",
    "plt.figure(figsize=(14,6))\n",
    "plt.title('Close Price History')\n",
    "plt.plot(df['Close'])\n",
    "plt.xlabel('Date',fontsize=18)\n",
    "plt.ylabel('Close Price USD ($)',fontsize=18)\n",
    "plt.show()"
   ]
  },
  {
   "cell_type": "code",
   "execution_count": 175,
   "metadata": {},
   "outputs": [],
   "source": [
    "#Create a new dataframe with only the 'Close' column\n",
    "data = df.filter(['Close'])\n",
    "#Converting the dataframe to a numpy array\n",
    "dataset = data.values\n",
    "#Get /Compute the number of rows to train the model on\n",
    "training_data_len = math.ceil( len(dataset) *.8) "
   ]
  },
  {
   "cell_type": "code",
   "execution_count": 176,
   "metadata": {},
   "outputs": [
    {
     "data": {
      "text/plain": [
       "array([[0.00771234],\n",
       "       [0.00853574],\n",
       "       [0.01024586],\n",
       "       ...,\n",
       "       [0.99095011],\n",
       "       [0.99853951],\n",
       "       [1.        ]])"
      ]
     },
     "execution_count": 176,
     "metadata": {},
     "output_type": "execute_result"
    }
   ],
   "source": [
    "#Scale the all of the data to be values between 0 and 1 \n",
    "scaler = MinMaxScaler(feature_range=(0, 1)) \n",
    "scaled_data = scaler.fit_transform(dataset)\n",
    "scaled_data"
   ]
  },
  {
   "cell_type": "code",
   "execution_count": 177,
   "metadata": {},
   "outputs": [
    {
     "data": {
      "text/plain": [
       "((2162, 1), (2162, 1))"
      ]
     },
     "execution_count": 177,
     "metadata": {},
     "output_type": "execute_result"
    }
   ],
   "source": [
    "dataset.shape,scaled_data.shape"
   ]
  },
  {
   "cell_type": "code",
   "execution_count": 178,
   "metadata": {},
   "outputs": [
    {
     "data": {
      "text/html": [
       "<div>\n",
       "<style scoped>\n",
       "    .dataframe tbody tr th:only-of-type {\n",
       "        vertical-align: middle;\n",
       "    }\n",
       "\n",
       "    .dataframe tbody tr th {\n",
       "        vertical-align: top;\n",
       "    }\n",
       "\n",
       "    .dataframe thead th {\n",
       "        text-align: right;\n",
       "    }\n",
       "</style>\n",
       "<table border=\"1\" class=\"dataframe\">\n",
       "  <thead>\n",
       "    <tr style=\"text-align: right;\">\n",
       "      <th></th>\n",
       "      <th>High</th>\n",
       "      <th>Low</th>\n",
       "      <th>Open</th>\n",
       "      <th>Close</th>\n",
       "      <th>Volume</th>\n",
       "      <th>Adj Close</th>\n",
       "    </tr>\n",
       "    <tr>\n",
       "      <th>Date</th>\n",
       "      <th></th>\n",
       "      <th></th>\n",
       "      <th></th>\n",
       "      <th></th>\n",
       "      <th></th>\n",
       "      <th></th>\n",
       "    </tr>\n",
       "  </thead>\n",
       "  <tbody>\n",
       "    <tr>\n",
       "      <th>2012-01-03</th>\n",
       "      <td>58.928570</td>\n",
       "      <td>58.428570</td>\n",
       "      <td>58.485714</td>\n",
       "      <td>58.747143</td>\n",
       "      <td>75555200.0</td>\n",
       "      <td>50.857235</td>\n",
       "    </tr>\n",
       "    <tr>\n",
       "      <th>2012-01-04</th>\n",
       "      <td>59.240002</td>\n",
       "      <td>58.468571</td>\n",
       "      <td>58.571430</td>\n",
       "      <td>59.062859</td>\n",
       "      <td>65005500.0</td>\n",
       "      <td>51.130558</td>\n",
       "    </tr>\n",
       "    <tr>\n",
       "      <th>2012-01-05</th>\n",
       "      <td>59.792858</td>\n",
       "      <td>58.952858</td>\n",
       "      <td>59.278572</td>\n",
       "      <td>59.718571</td>\n",
       "      <td>67817400.0</td>\n",
       "      <td>51.698215</td>\n",
       "    </tr>\n",
       "    <tr>\n",
       "      <th>2012-01-06</th>\n",
       "      <td>60.392857</td>\n",
       "      <td>59.888573</td>\n",
       "      <td>59.967144</td>\n",
       "      <td>60.342857</td>\n",
       "      <td>79573200.0</td>\n",
       "      <td>52.238651</td>\n",
       "    </tr>\n",
       "    <tr>\n",
       "      <th>2012-01-09</th>\n",
       "      <td>61.107143</td>\n",
       "      <td>60.192856</td>\n",
       "      <td>60.785713</td>\n",
       "      <td>60.247143</td>\n",
       "      <td>98506100.0</td>\n",
       "      <td>52.155792</td>\n",
       "    </tr>\n",
       "  </tbody>\n",
       "</table>\n",
       "</div>"
      ],
      "text/plain": [
       "                 High        Low       Open      Close      Volume  Adj Close\n",
       "Date                                                                         \n",
       "2012-01-03  58.928570  58.428570  58.485714  58.747143  75555200.0  50.857235\n",
       "2012-01-04  59.240002  58.468571  58.571430  59.062859  65005500.0  51.130558\n",
       "2012-01-05  59.792858  58.952858  59.278572  59.718571  67817400.0  51.698215\n",
       "2012-01-06  60.392857  59.888573  59.967144  60.342857  79573200.0  52.238651\n",
       "2012-01-09  61.107143  60.192856  60.785713  60.247143  98506100.0  52.155792"
      ]
     },
     "execution_count": 178,
     "metadata": {},
     "output_type": "execute_result"
    }
   ],
   "source": [
    "df.head(5)"
   ]
  },
  {
   "cell_type": "code",
   "execution_count": 146,
   "metadata": {},
   "outputs": [
    {
     "data": {
      "text/plain": [
       "59.718570709228516"
      ]
     },
     "execution_count": 146,
     "metadata": {},
     "output_type": "execute_result"
    }
   ],
   "source": [
    "df[[\"Close\"]].values[2,0]"
   ]
  },
  {
   "cell_type": "code",
   "execution_count": 179,
   "metadata": {},
   "outputs": [],
   "source": [
    "#Create the scaled training data set \n",
    "train_data = scaled_data[0:training_data_len  , : ]\n",
    "#Split the data into x_train and y_train data sets\n",
    "x_train=[]\n",
    "y_train = []\n",
    "for i in range(60,len(train_data)):\n",
    "    x_train.append(train_data[i-60:i,0])\n",
    "    y_train.append(train_data[i,0])"
   ]
  },
  {
   "cell_type": "code",
   "execution_count": 180,
   "metadata": {},
   "outputs": [],
   "source": [
    "#Convert x_train and y_train to numpy arrays\n",
    "x_train, y_train = np.array(x_train), np.array(y_train)"
   ]
  },
  {
   "cell_type": "code",
   "execution_count": 181,
   "metadata": {
    "collapsed": true,
    "jupyter": {
     "outputs_hidden": true
    }
   },
   "outputs": [
    {
     "data": {
      "text/plain": [
       "array([[[0.00771234],\n",
       "        [0.00853574],\n",
       "        [0.01024586],\n",
       "        ...,\n",
       "        [0.08064425],\n",
       "        [0.08343859],\n",
       "        [0.08460848]],\n",
       "\n",
       "       [[0.00853574],\n",
       "        [0.01024586],\n",
       "        [0.01187402],\n",
       "        ...,\n",
       "        [0.08343859],\n",
       "        [0.08460848],\n",
       "        [0.08171728]],\n",
       "\n",
       "       [[0.01024586],\n",
       "        [0.01187402],\n",
       "        [0.0116244 ],\n",
       "        ...,\n",
       "        [0.08460848],\n",
       "        [0.08171728],\n",
       "        [0.07787602]],\n",
       "\n",
       "       ...,\n",
       "\n",
       "       [[0.42195447],\n",
       "        [0.41642544],\n",
       "        [0.41533003],\n",
       "        ...,\n",
       "        [0.40205512],\n",
       "        [0.39824741],\n",
       "        [0.38776309]],\n",
       "\n",
       "       [[0.41642544],\n",
       "        [0.41533003],\n",
       "        [0.41535613],\n",
       "        ...,\n",
       "        [0.39824741],\n",
       "        [0.38776309],\n",
       "        [0.36090029]],\n",
       "\n",
       "       [[0.41533003],\n",
       "        [0.41535613],\n",
       "        [0.41650368],\n",
       "        ...,\n",
       "        [0.38776309],\n",
       "        [0.36090029],\n",
       "        [0.35584069]]])"
      ]
     },
     "execution_count": 181,
     "metadata": {},
     "output_type": "execute_result"
    }
   ],
   "source": [
    "#Reshape the data into the shape accepted by the LSTM\n",
    "x_train = np.reshape(x_train, (x_train.shape[0],x_train.shape[1],1))\n",
    "x_train"
   ]
  },
  {
   "cell_type": "code",
   "execution_count": 182,
   "metadata": {},
   "outputs": [
    {
     "data": {
      "text/plain": [
       "(1670, 60, 1)"
      ]
     },
     "execution_count": 182,
     "metadata": {},
     "output_type": "execute_result"
    }
   ],
   "source": [
    "x_train.shape"
   ]
  },
  {
   "cell_type": "markdown",
   "metadata": {},
   "source": [
    "## Build the LSTM model to have two LSTM layers with 50 neurons and two Dense layers, one with 25 neurons and the other with 1 neuron."
   ]
  },
  {
   "cell_type": "code",
   "execution_count": 183,
   "metadata": {},
   "outputs": [],
   "source": [
    "from keras.layers import Dropout"
   ]
  },
  {
   "cell_type": "code",
   "execution_count": 184,
   "metadata": {},
   "outputs": [],
   "source": [
    "#Build the LSTM network model\n",
    "model = Sequential()\n",
    "\n",
    "# LSTM layer and some Dropout regularisation\n",
    "model.add(LSTM(units=50, return_sequences=True,input_shape=(x_train.shape[1],1)))\n",
    "model.add(Dropout(0.2))\n",
    "\n",
    "model.add(LSTM(units=50, return_sequences=False))\n",
    "model.add(Dropout(0.2))\n",
    "\n",
    "model.add(Dense(units=25))\n",
    "model.add(Dropout(0.2))\n",
    "\n",
    "# Adding the output layer\n",
    "model.add(Dense(units=1))"
   ]
  },
  {
   "cell_type": "code",
   "execution_count": 185,
   "metadata": {},
   "outputs": [],
   "source": [
    "#Compile the model\n",
    "model.compile(optimizer='adam', loss='mean_squared_error')"
   ]
  },
  {
   "cell_type": "code",
   "execution_count": 186,
   "metadata": {},
   "outputs": [
    {
     "name": "stdout",
     "output_type": "stream",
     "text": [
      "Epoch 1/10\n",
      "84/84 [==============================] - 2s 22ms/step - loss: 0.0031\n",
      "Epoch 2/10\n",
      "84/84 [==============================] - 2s 21ms/step - loss: 8.3764e-04\n",
      "Epoch 3/10\n",
      "84/84 [==============================] - 2s 21ms/step - loss: 7.1391e-04\n",
      "Epoch 4/10\n",
      "84/84 [==============================] - 2s 21ms/step - loss: 5.6236e-04\n",
      "Epoch 5/10\n",
      "84/84 [==============================] - 2s 22ms/step - loss: 6.1649e-04\n",
      "Epoch 6/10\n",
      "84/84 [==============================] - 2s 21ms/step - loss: 6.0394e-04\n",
      "Epoch 7/10\n",
      "84/84 [==============================] - 2s 21ms/step - loss: 4.8933e-04\n",
      "Epoch 8/10\n",
      "84/84 [==============================] - 2s 21ms/step - loss: 5.0356e-04\n",
      "Epoch 9/10\n",
      "84/84 [==============================] - 2s 21ms/step - loss: 5.1891e-04\n",
      "Epoch 10/10\n",
      "84/84 [==============================] - 2s 22ms/step - loss: 4.3629e-04\n"
     ]
    },
    {
     "data": {
      "text/plain": [
       "<tensorflow.python.keras.callbacks.History at 0x7f1bec63a710>"
      ]
     },
     "execution_count": 186,
     "metadata": {},
     "output_type": "execute_result"
    }
   ],
   "source": [
    "#Train the model\n",
    "model.fit(x_train, y_train, batch_size=20, epochs=10)"
   ]
  },
  {
   "cell_type": "code",
   "execution_count": 187,
   "metadata": {},
   "outputs": [],
   "source": [
    "#Test data set\n",
    "test_data = scaled_data[training_data_len - 60: , : ]\n",
    "#Create the x_test and y_test data sets\n",
    "x_test = []\n",
    "y_test =  dataset[training_data_len : , : ] #Get all of the rows from index 1603 to the rest and all of the columns (in this case it's only column 'Close'), so 2003 - 1603 = 400 rows of data\n",
    "for i in range(60,len(test_data)):\n",
    "    x_test.append(test_data[i-60:i,0])"
   ]
  },
  {
   "cell_type": "code",
   "execution_count": 188,
   "metadata": {},
   "outputs": [],
   "source": [
    "#Convert x_test to a numpy array \n",
    "x_test = np.array(x_test)"
   ]
  },
  {
   "cell_type": "code",
   "execution_count": 163,
   "metadata": {
    "collapsed": true,
    "jupyter": {
     "outputs_hidden": true
    }
   },
   "outputs": [
    {
     "data": {
      "text/plain": [
       "array([[0.53054049, 0.53058498, 0.52666723, ..., 0.58926183, 0.58164901,\n",
       "        0.58939538],\n",
       "       [0.53058498, 0.52666723, 0.52212628, ..., 0.58164901, 0.58939538,\n",
       "        0.5840976 ],\n",
       "       [0.52666723, 0.52212628, 0.50614368, ..., 0.58939538, 0.5840976 ,\n",
       "        0.58107023],\n",
       "       ...,\n",
       "       [0.62229545, 0.64112724, 0.64086013, ..., 0.94688811, 0.95708301,\n",
       "        0.96015487],\n",
       "       [0.64112724, 0.64086013, 0.63275753, ..., 0.95708301, 0.96015487,\n",
       "        0.97658263],\n",
       "       [0.64086013, 0.63275753, 0.64891817, ..., 0.96015487, 0.97658263,\n",
       "        0.99755134]])"
      ]
     },
     "execution_count": 163,
     "metadata": {},
     "output_type": "execute_result"
    }
   ],
   "source": [
    "x_test"
   ]
  },
  {
   "cell_type": "code",
   "execution_count": 189,
   "metadata": {},
   "outputs": [],
   "source": [
    "#Reshape the data into the shape accepted by the LSTM\n",
    "x_test = np.reshape(x_test, (x_test.shape[0],x_test.shape[1],1))"
   ]
  },
  {
   "cell_type": "code",
   "execution_count": 190,
   "metadata": {},
   "outputs": [],
   "source": [
    "#Getting the models predicted price values\n",
    "predictions = model.predict(x_test) \n",
    "predictions = scaler.inverse_transform(predictions)#Undo scaling"
   ]
  },
  {
   "cell_type": "code",
   "execution_count": 191,
   "metadata": {
    "collapsed": true,
    "jupyter": {
     "outputs_hidden": true
    }
   },
   "outputs": [
    {
     "data": {
      "text/plain": [
       "array([[198.32057],\n",
       "       [195.85977],\n",
       "       [193.87965],\n",
       "       [191.80066],\n",
       "       [189.1845 ],\n",
       "       [186.41904],\n",
       "       [183.44763],\n",
       "       [180.74118],\n",
       "       [178.3782 ],\n",
       "       [176.89072],\n",
       "       [175.9642 ],\n",
       "       [175.39194],\n",
       "       [175.53413],\n",
       "       [175.53027],\n",
       "       [175.29832],\n",
       "       [174.49648],\n",
       "       [173.48174],\n",
       "       [172.34264],\n",
       "       [171.24806],\n",
       "       [170.39859],\n",
       "       [169.37584],\n",
       "       [168.21367],\n",
       "       [167.20558],\n",
       "       [165.999  ],\n",
       "       [164.46977],\n",
       "       [162.41739],\n",
       "       [159.91362],\n",
       "       [158.0575 ],\n",
       "       [156.67377],\n",
       "       [155.69785],\n",
       "       [155.16022],\n",
       "       [154.95139],\n",
       "       [153.83717],\n",
       "       [152.67667],\n",
       "       [151.55086],\n",
       "       [150.73581],\n",
       "       [150.36224],\n",
       "       [150.33054],\n",
       "       [150.40875],\n",
       "       [150.38692],\n",
       "       [150.5252 ],\n",
       "       [150.88855],\n",
       "       [151.43295],\n",
       "       [152.11987],\n",
       "       [152.59271],\n",
       "       [152.94102],\n",
       "       [153.09793],\n",
       "       [153.48666],\n",
       "       [153.88686],\n",
       "       [154.14844],\n",
       "       [155.0619 ],\n",
       "       [156.39972],\n",
       "       [157.90852],\n",
       "       [159.74968],\n",
       "       [161.86928],\n",
       "       [164.00667],\n",
       "       [165.75612],\n",
       "       [167.09204],\n",
       "       [167.99692],\n",
       "       [168.66791],\n",
       "       [169.08977],\n",
       "       [169.36769],\n",
       "       [169.50597],\n",
       "       [169.58171],\n",
       "       [169.68988],\n",
       "       [169.73889],\n",
       "       [169.88295],\n",
       "       [170.16417],\n",
       "       [170.51576],\n",
       "       [170.92249],\n",
       "       [171.20845],\n",
       "       [171.52727],\n",
       "       [171.9046 ],\n",
       "       [172.26653],\n",
       "       [172.51865],\n",
       "       [172.53786],\n",
       "       [172.43924],\n",
       "       [172.70363],\n",
       "       [173.31818],\n",
       "       [174.1626 ],\n",
       "       [175.23157],\n",
       "       [176.5308 ],\n",
       "       [178.01128],\n",
       "       [179.38528],\n",
       "       [180.70573],\n",
       "       [182.38911],\n",
       "       [183.87978],\n",
       "       [184.97227],\n",
       "       [185.59291],\n",
       "       [185.99176],\n",
       "       [186.23836],\n",
       "       [186.45862],\n",
       "       [186.73706],\n",
       "       [187.22884],\n",
       "       [187.91014],\n",
       "       [188.68117],\n",
       "       [189.54248],\n",
       "       [190.61566],\n",
       "       [191.6948 ],\n",
       "       [192.77553],\n",
       "       [193.65416],\n",
       "       [194.33398],\n",
       "       [194.86305],\n",
       "       [195.25848],\n",
       "       [195.81813],\n",
       "       [196.48817],\n",
       "       [197.22362],\n",
       "       [198.15468],\n",
       "       [199.11215],\n",
       "       [199.87794],\n",
       "       [200.39546],\n",
       "       [200.74023],\n",
       "       [200.66753],\n",
       "       [201.04695],\n",
       "       [201.57672],\n",
       "       [202.3473 ],\n",
       "       [202.97324],\n",
       "       [203.05896],\n",
       "       [202.80515],\n",
       "       [202.20113],\n",
       "       [201.17093],\n",
       "       [199.13202],\n",
       "       [196.83243],\n",
       "       [194.70346],\n",
       "       [192.78113],\n",
       "       [191.05627],\n",
       "       [189.16171],\n",
       "       [187.55757],\n",
       "       [185.98088],\n",
       "       [184.31866],\n",
       "       [182.68045],\n",
       "       [181.12889],\n",
       "       [179.68922],\n",
       "       [178.49594],\n",
       "       [177.31662],\n",
       "       [176.11064],\n",
       "       [175.43556],\n",
       "       [175.35197],\n",
       "       [175.83879],\n",
       "       [177.00082],\n",
       "       [178.67233],\n",
       "       [180.69714],\n",
       "       [182.74576],\n",
       "       [184.65239],\n",
       "       [186.22546],\n",
       "       [187.55458],\n",
       "       [188.95793],\n",
       "       [190.25882],\n",
       "       [191.51169],\n",
       "       [192.58975],\n",
       "       [193.46198],\n",
       "       [193.92242],\n",
       "       [194.39401],\n",
       "       [194.8294 ],\n",
       "       [195.07759],\n",
       "       [195.4496 ],\n",
       "       [195.95244],\n",
       "       [196.61769],\n",
       "       [197.31908],\n",
       "       [197.68661],\n",
       "       [197.90564],\n",
       "       [198.15616],\n",
       "       [198.29962],\n",
       "       [198.47661],\n",
       "       [198.79665],\n",
       "       [199.12956],\n",
       "       [199.3626 ],\n",
       "       [199.681  ],\n",
       "       [199.80682],\n",
       "       [200.13577],\n",
       "       [200.6803 ],\n",
       "       [201.30524],\n",
       "       [201.81445],\n",
       "       [202.26466],\n",
       "       [202.7821 ],\n",
       "       [203.23663],\n",
       "       [203.92308],\n",
       "       [204.36942],\n",
       "       [204.31776],\n",
       "       [203.19453],\n",
       "       [201.75392],\n",
       "       [200.36783],\n",
       "       [199.43483],\n",
       "       [198.67897],\n",
       "       [198.05554],\n",
       "       [198.1702 ],\n",
       "       [198.2875 ],\n",
       "       [198.32797],\n",
       "       [198.65858],\n",
       "       [199.41954],\n",
       "       [200.39153],\n",
       "       [201.5858 ],\n",
       "       [202.8147 ],\n",
       "       [203.26813],\n",
       "       [203.4837 ],\n",
       "       [203.36525],\n",
       "       [203.14717],\n",
       "       [203.13252],\n",
       "       [203.2253 ],\n",
       "       [203.16032],\n",
       "       [203.25288],\n",
       "       [203.7276 ],\n",
       "       [204.40141],\n",
       "       [205.21341],\n",
       "       [206.23038],\n",
       "       [207.79031],\n",
       "       [209.53116],\n",
       "       [210.94156],\n",
       "       [212.12251],\n",
       "       [213.12637],\n",
       "       [214.09105],\n",
       "       [214.82683],\n",
       "       [215.13298],\n",
       "       [215.21977],\n",
       "       [215.08704],\n",
       "       [215.06728],\n",
       "       [215.03505],\n",
       "       [214.9207 ],\n",
       "       [215.13226],\n",
       "       [215.57158],\n",
       "       [215.71524],\n",
       "       [215.79904],\n",
       "       [216.28036],\n",
       "       [216.9729 ],\n",
       "       [217.55397],\n",
       "       [218.2108 ],\n",
       "       [219.082  ],\n",
       "       [220.45714],\n",
       "       [222.01382],\n",
       "       [223.52591],\n",
       "       [224.82666],\n",
       "       [225.96164],\n",
       "       [226.98656],\n",
       "       [228.15729],\n",
       "       [229.28719],\n",
       "       [230.53598],\n",
       "       [231.78922],\n",
       "       [233.16316],\n",
       "       [234.68105],\n",
       "       [235.75769],\n",
       "       [236.4782 ],\n",
       "       [237.31377],\n",
       "       [238.65714],\n",
       "       [240.32849],\n",
       "       [242.0478 ],\n",
       "       [243.67226],\n",
       "       [245.26831],\n",
       "       [246.7721 ],\n",
       "       [248.24895],\n",
       "       [249.5761 ],\n",
       "       [250.887  ],\n",
       "       [251.95335],\n",
       "       [253.00931],\n",
       "       [254.06955],\n",
       "       [254.99118],\n",
       "       [255.53403],\n",
       "       [255.71672],\n",
       "       [255.64444],\n",
       "       [255.74571],\n",
       "       [255.79349],\n",
       "       [256.05896],\n",
       "       [256.39288],\n",
       "       [256.52292],\n",
       "       [256.18137],\n",
       "       [255.73917],\n",
       "       [255.53926],\n",
       "       [255.868  ],\n",
       "       [256.2254 ],\n",
       "       [256.68802],\n",
       "       [257.34195],\n",
       "       [258.1117 ],\n",
       "       [259.15726],\n",
       "       [260.62677],\n",
       "       [262.28232],\n",
       "       [263.8783 ],\n",
       "       [265.3352 ],\n",
       "       [266.55185],\n",
       "       [267.85132],\n",
       "       [269.117  ],\n",
       "       [270.66632],\n",
       "       [272.2588 ],\n",
       "       [273.878  ],\n",
       "       [275.5382 ],\n",
       "       [277.5701 ],\n",
       "       [279.46042],\n",
       "       [281.2885 ],\n",
       "       [282.83267],\n",
       "       [284.4238 ],\n",
       "       [286.37274],\n",
       "       [288.43512],\n",
       "       [290.87823],\n",
       "       [293.0556 ],\n",
       "       [294.80887],\n",
       "       [296.4405 ],\n",
       "       [298.11224],\n",
       "       [299.5212 ],\n",
       "       [300.7403 ],\n",
       "       [301.85315],\n",
       "       [302.74545],\n",
       "       [302.76807],\n",
       "       [302.88013],\n",
       "       [303.49713],\n",
       "       [304.33694],\n",
       "       [304.23145],\n",
       "       [303.5048 ],\n",
       "       [303.17004],\n",
       "       [303.2742 ],\n",
       "       [303.90564],\n",
       "       [304.4427 ],\n",
       "       [304.9934 ],\n",
       "       [305.3694 ],\n",
       "       [306.1479 ],\n",
       "       [306.9404 ],\n",
       "       [307.68954],\n",
       "       [307.93195],\n",
       "       [308.17676],\n",
       "       [308.1622 ],\n",
       "       [307.47906],\n",
       "       [305.3886 ],\n",
       "       [301.8879 ],\n",
       "       [298.11658],\n",
       "       [293.09985],\n",
       "       [287.7053 ],\n",
       "       [284.29498],\n",
       "       [281.6748 ],\n",
       "       [280.71326],\n",
       "       [280.142  ],\n",
       "       [279.59192],\n",
       "       [277.47342],\n",
       "       [275.93314],\n",
       "       [274.14435],\n",
       "       [270.41412],\n",
       "       [267.91104],\n",
       "       [263.7834 ],\n",
       "       [259.75906],\n",
       "       [255.65302],\n",
       "       [251.68192],\n",
       "       [246.99028],\n",
       "       [241.87265],\n",
       "       [238.48978],\n",
       "       [236.3333 ],\n",
       "       [236.03413],\n",
       "       [236.1441 ],\n",
       "       [237.01686],\n",
       "       [238.25755],\n",
       "       [238.67941],\n",
       "       [238.85956],\n",
       "       [238.62302],\n",
       "       [239.65694],\n",
       "       [241.17366],\n",
       "       [243.35614],\n",
       "       [245.91951],\n",
       "       [248.89905],\n",
       "       [252.89064],\n",
       "       [257.0067 ],\n",
       "       [261.04767],\n",
       "       [264.4504 ],\n",
       "       [266.779  ],\n",
       "       [267.655  ],\n",
       "       [268.12003],\n",
       "       [268.20853],\n",
       "       [268.623  ],\n",
       "       [269.21277],\n",
       "       [269.53702],\n",
       "       [270.3254 ],\n",
       "       [271.76172],\n",
       "       [273.1449 ],\n",
       "       [274.6831 ],\n",
       "       [276.5056 ],\n",
       "       [278.5768 ],\n",
       "       [280.85977],\n",
       "       [283.5483 ],\n",
       "       [286.62006],\n",
       "       [289.4302 ],\n",
       "       [291.59726],\n",
       "       [293.33563],\n",
       "       [294.54047],\n",
       "       [295.83804],\n",
       "       [296.9539 ],\n",
       "       [298.30487],\n",
       "       [299.51932],\n",
       "       [300.70175],\n",
       "       [301.61514],\n",
       "       [302.3903 ],\n",
       "       [303.0261 ],\n",
       "       [303.50287],\n",
       "       [304.1205 ],\n",
       "       [304.87695],\n",
       "       [305.78424],\n",
       "       [306.51312],\n",
       "       [307.7281 ],\n",
       "       [309.27567],\n",
       "       [311.65207],\n",
       "       [314.9682 ],\n",
       "       [317.3987 ],\n",
       "       [319.32108],\n",
       "       [321.07004],\n",
       "       [323.21188],\n",
       "       [325.38315],\n",
       "       [327.4151 ],\n",
       "       [329.06024],\n",
       "       [330.98584],\n",
       "       [333.4598 ],\n",
       "       [335.61252],\n",
       "       [337.7451 ],\n",
       "       [338.90067],\n",
       "       [339.9532 ],\n",
       "       [341.05774],\n",
       "       [342.0547 ],\n",
       "       [342.90793],\n",
       "       [344.28928],\n",
       "       [345.79053],\n",
       "       [347.85965],\n",
       "       [350.21732],\n",
       "       [352.61264],\n",
       "       [354.71802],\n",
       "       [356.92517],\n",
       "       [359.19797],\n",
       "       [360.99237],\n",
       "       [362.3053 ],\n",
       "       [363.78732],\n",
       "       [364.86298],\n",
       "       [365.6901 ],\n",
       "       [365.0565 ],\n",
       "       [363.53732],\n",
       "       [362.20328],\n",
       "       [360.63364],\n",
       "       [359.55185],\n",
       "       [359.1628 ],\n",
       "       [362.03763],\n",
       "       [367.37314],\n",
       "       [373.98798]], dtype=float32)"
      ]
     },
     "execution_count": 191,
     "metadata": {},
     "output_type": "execute_result"
    }
   ],
   "source": [
    "predictions"
   ]
  },
  {
   "cell_type": "code",
   "execution_count": 192,
   "metadata": {},
   "outputs": [
    {
     "data": {
      "text/plain": [
       "15.787316730663264"
      ]
     },
     "execution_count": 192,
     "metadata": {},
     "output_type": "execute_result"
    }
   ],
   "source": [
    "#Calculate/Get the value of RMSE\n",
    "rmse=np.sqrt(np.mean(((predictions- y_test)**2)))\n",
    "rmse"
   ]
  },
  {
   "cell_type": "markdown",
   "metadata": {},
   "source": [
    "## PLot the result "
   ]
  },
  {
   "cell_type": "code",
   "execution_count": 195,
   "metadata": {},
   "outputs": [
    {
     "name": "stderr",
     "output_type": "stream",
     "text": [
      "/home/funnyeoman/python-environments/yeo/lib/python3.6/site-packages/ipykernel_launcher.py:4: SettingWithCopyWarning: \n",
      "A value is trying to be set on a copy of a slice from a DataFrame.\n",
      "Try using .loc[row_indexer,col_indexer] = value instead\n",
      "\n",
      "See the caveats in the documentation: https://pandas.pydata.org/pandas-docs/stable/user_guide/indexing.html#returning-a-view-versus-a-copy\n",
      "  after removing the cwd from sys.path.\n"
     ]
    },
    {
     "data": {
      "image/png": "[encoded data removed]",
      "text/plain": [
       "<Figure size 1152x576 with 1 Axes>"
      ]
     },
     "metadata": {},
     "output_type": "display_data"
    }
   ],
   "source": [
    "#Plot/Create the data for the graph\n",
    "train = data[:training_data_len]\n",
    "valid = data[training_data_len:]\n",
    "valid['Predictions'] = predictions\n",
    "#Visualize the data\n",
    "plt.figure(figsize=(16,8))\n",
    "plt.title('Model')\n",
    "plt.xlabel('Date', fontsize=18)\n",
    "plt.ylabel('Close Price USD ($)', fontsize=18)\n",
    "# plt.plot(train['Close'])\n",
    "plt.plot(valid[['Close', 'Predictions']])\n",
    "plt.legend([ 'Val', 'Predictions'], loc='lower right')\n",
    "plt.show()"
   ]
  },
  {
   "cell_type": "markdown",
   "metadata": {},
   "source": [
    "## Show Y vs Ypred"
   ]
  },
  {
   "cell_type": "code",
   "execution_count": 196,
   "metadata": {},
   "outputs": [
    {
     "data": {
      "text/html": [
       "<div>\n",
       "<style scoped>\n",
       "    .dataframe tbody tr th:only-of-type {\n",
       "        vertical-align: middle;\n",
       "    }\n",
       "\n",
       "    .dataframe tbody tr th {\n",
       "        vertical-align: top;\n",
       "    }\n",
       "\n",
       "    .dataframe thead th {\n",
       "        text-align: right;\n",
       "    }\n",
       "</style>\n",
       "<table border=\"1\" class=\"dataframe\">\n",
       "  <thead>\n",
       "    <tr style=\"text-align: right;\">\n",
       "      <th></th>\n",
       "      <th>Close</th>\n",
       "      <th>Predictions</th>\n",
       "    </tr>\n",
       "    <tr>\n",
       "      <th>Date</th>\n",
       "      <th></th>\n",
       "      <th></th>\n",
       "    </tr>\n",
       "  </thead>\n",
       "  <tbody>\n",
       "    <tr>\n",
       "      <th>2018-11-15</th>\n",
       "      <td>191.410004</td>\n",
       "      <td>198.320572</td>\n",
       "    </tr>\n",
       "    <tr>\n",
       "      <th>2018-11-16</th>\n",
       "      <td>193.529999</td>\n",
       "      <td>195.859772</td>\n",
       "    </tr>\n",
       "    <tr>\n",
       "      <th>2018-11-19</th>\n",
       "      <td>185.860001</td>\n",
       "      <td>193.879654</td>\n",
       "    </tr>\n",
       "    <tr>\n",
       "      <th>2018-11-20</th>\n",
       "      <td>176.979996</td>\n",
       "      <td>191.800659</td>\n",
       "    </tr>\n",
       "    <tr>\n",
       "      <th>2018-11-21</th>\n",
       "      <td>176.779999</td>\n",
       "      <td>189.184494</td>\n",
       "    </tr>\n",
       "    <tr>\n",
       "      <th>...</th>\n",
       "      <td>...</td>\n",
       "      <td>...</td>\n",
       "    </tr>\n",
       "    <tr>\n",
       "      <th>2020-07-30</th>\n",
       "      <td>384.760010</td>\n",
       "      <td>359.551849</td>\n",
       "    </tr>\n",
       "    <tr>\n",
       "      <th>2020-07-31</th>\n",
       "      <td>425.040009</td>\n",
       "      <td>359.162811</td>\n",
       "    </tr>\n",
       "    <tr>\n",
       "      <th>2020-08-03</th>\n",
       "      <td>435.750000</td>\n",
       "      <td>362.037628</td>\n",
       "    </tr>\n",
       "    <tr>\n",
       "      <th>2020-08-04</th>\n",
       "      <td>438.660004</td>\n",
       "      <td>367.373138</td>\n",
       "    </tr>\n",
       "    <tr>\n",
       "      <th>2020-08-05</th>\n",
       "      <td>439.220001</td>\n",
       "      <td>373.987976</td>\n",
       "    </tr>\n",
       "  </tbody>\n",
       "</table>\n",
       "<p>432 rows × 2 columns</p>\n",
       "</div>"
      ],
      "text/plain": [
       "                 Close  Predictions\n",
       "Date                               \n",
       "2018-11-15  191.410004   198.320572\n",
       "2018-11-16  193.529999   195.859772\n",
       "2018-11-19  185.860001   193.879654\n",
       "2018-11-20  176.979996   191.800659\n",
       "2018-11-21  176.779999   189.184494\n",
       "...                ...          ...\n",
       "2020-07-30  384.760010   359.551849\n",
       "2020-07-31  425.040009   359.162811\n",
       "2020-08-03  435.750000   362.037628\n",
       "2020-08-04  438.660004   367.373138\n",
       "2020-08-05  439.220001   373.987976\n",
       "\n",
       "[432 rows x 2 columns]"
      ]
     },
     "execution_count": 196,
     "metadata": {},
     "output_type": "execute_result"
    }
   ],
   "source": [
    "#Show the valid and predicted prices\n",
    "valid"
   ]
  }
 ],
 "metadata": {
  "kernelspec": {
   "display_name": "Python 3",
   "language": "python",
   "name": "python3"
  },
  "language_info": {
   "codemirror_mode": {
    "name": "ipython",
    "version": 3
   },
   "file_extension": ".py",
   "mimetype": "text/x-python",
   "name": "python",
   "nbconvert_exporter": "python",
   "pygments_lexer": "ipython3",
   "version": "3.6.9"
  }
 },
 "nbformat": 4,
 "nbformat_minor": 4
}
